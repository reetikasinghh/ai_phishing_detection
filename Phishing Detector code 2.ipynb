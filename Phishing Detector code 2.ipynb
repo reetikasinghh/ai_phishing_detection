{
 "cells": [
  {
   "cell_type": "code",
   "execution_count": 13,
   "id": "d7da7e4d-eba8-4730-8c91-8b154f7f3575",
   "metadata": {},
   "outputs": [
    {
     "name": "stdout",
     "output_type": "stream",
     "text": [
      "Requirement already satisfied: pandas in c:\\users\\hp\\anaconda3\\lib\\site-packages (2.2.2)\n",
      "Requirement already satisfied: numpy in c:\\users\\hp\\anaconda3\\lib\\site-packages (1.26.4)\n",
      "Requirement already satisfied: scikit-learn in c:\\users\\hp\\anaconda3\\lib\\site-packages (1.5.1)\n",
      "Requirement already satisfied: joblib in c:\\users\\hp\\anaconda3\\lib\\site-packages (1.4.2)\n",
      "Requirement already satisfied: matplotlib in c:\\users\\hp\\anaconda3\\lib\\site-packages (3.9.2)\n",
      "Requirement already satisfied: seaborn in c:\\users\\hp\\anaconda3\\lib\\site-packages (0.13.2)\n",
      "Requirement already satisfied: nltk in c:\\users\\hp\\anaconda3\\lib\\site-packages (3.9.1)\n",
      "Requirement already satisfied: wordcloud in c:\\users\\hp\\anaconda3\\lib\\site-packages (1.9.4)\n",
      "Requirement already satisfied: google-api-python-client in c:\\users\\hp\\anaconda3\\lib\\site-packages (2.167.0)\n",
      "Requirement already satisfied: google-auth-httplib2 in c:\\users\\hp\\anaconda3\\lib\\site-packages (0.2.0)\n",
      "Requirement already satisfied: google-auth-oauthlib in c:\\users\\hp\\anaconda3\\lib\\site-packages (1.2.1)\n",
      "Requirement already satisfied: python-dateutil>=2.8.2 in c:\\users\\hp\\anaconda3\\lib\\site-packages (from pandas) (2.9.0.post0)\n",
      "Requirement already satisfied: pytz>=2020.1 in c:\\users\\hp\\anaconda3\\lib\\site-packages (from pandas) (2024.1)\n",
      "Requirement already satisfied: tzdata>=2022.7 in c:\\users\\hp\\anaconda3\\lib\\site-packages (from pandas) (2023.3)\n",
      "Requirement already satisfied: scipy>=1.6.0 in c:\\users\\hp\\anaconda3\\lib\\site-packages (from scikit-learn) (1.13.1)\n",
      "Requirement already satisfied: threadpoolctl>=3.1.0 in c:\\users\\hp\\anaconda3\\lib\\site-packages (from scikit-learn) (3.5.0)\n",
      "Requirement already satisfied: contourpy>=1.0.1 in c:\\users\\hp\\anaconda3\\lib\\site-packages (from matplotlib) (1.2.0)\n",
      "Requirement already satisfied: cycler>=0.10 in c:\\users\\hp\\anaconda3\\lib\\site-packages (from matplotlib) (0.11.0)\n",
      "Requirement already satisfied: fonttools>=4.22.0 in c:\\users\\hp\\anaconda3\\lib\\site-packages (from matplotlib) (4.51.0)\n",
      "Requirement already satisfied: kiwisolver>=1.3.1 in c:\\users\\hp\\anaconda3\\lib\\site-packages (from matplotlib) (1.4.4)\n",
      "Requirement already satisfied: packaging>=20.0 in c:\\users\\hp\\anaconda3\\lib\\site-packages (from matplotlib) (24.1)\n",
      "Requirement already satisfied: pillow>=8 in c:\\users\\hp\\anaconda3\\lib\\site-packages (from matplotlib) (10.4.0)\n",
      "Requirement already satisfied: pyparsing>=2.3.1 in c:\\users\\hp\\anaconda3\\lib\\site-packages (from matplotlib) (3.1.2)\n",
      "Requirement already satisfied: click in c:\\users\\hp\\anaconda3\\lib\\site-packages (from nltk) (8.1.7)\n",
      "Requirement already satisfied: regex>=2021.8.3 in c:\\users\\hp\\anaconda3\\lib\\site-packages (from nltk) (2024.9.11)\n",
      "Requirement already satisfied: tqdm in c:\\users\\hp\\anaconda3\\lib\\site-packages (from nltk) (4.66.5)\n",
      "Requirement already satisfied: httplib2<1.0.0,>=0.19.0 in c:\\users\\hp\\anaconda3\\lib\\site-packages (from google-api-python-client) (0.22.0)\n",
      "Requirement already satisfied: google-auth!=2.24.0,!=2.25.0,<3.0.0,>=1.32.0 in c:\\users\\hp\\anaconda3\\lib\\site-packages (from google-api-python-client) (2.39.0)\n",
      "Requirement already satisfied: google-api-core!=2.0.*,!=2.1.*,!=2.2.*,!=2.3.0,<3.0.0,>=1.31.5 in c:\\users\\hp\\anaconda3\\lib\\site-packages (from google-api-python-client) (2.24.2)\n",
      "Requirement already satisfied: uritemplate<5,>=3.0.1 in c:\\users\\hp\\anaconda3\\lib\\site-packages (from google-api-python-client) (4.1.1)\n",
      "Requirement already satisfied: requests-oauthlib>=0.7.0 in c:\\users\\hp\\anaconda3\\lib\\site-packages (from google-auth-oauthlib) (2.0.0)\n",
      "Requirement already satisfied: googleapis-common-protos<2.0.0,>=1.56.2 in c:\\users\\hp\\anaconda3\\lib\\site-packages (from google-api-core!=2.0.*,!=2.1.*,!=2.2.*,!=2.3.0,<3.0.0,>=1.31.5->google-api-python-client) (1.70.0)\n",
      "Requirement already satisfied: protobuf!=3.20.0,!=3.20.1,!=4.21.0,!=4.21.1,!=4.21.2,!=4.21.3,!=4.21.4,!=4.21.5,<7.0.0,>=3.19.5 in c:\\users\\hp\\anaconda3\\lib\\site-packages (from google-api-core!=2.0.*,!=2.1.*,!=2.2.*,!=2.3.0,<3.0.0,>=1.31.5->google-api-python-client) (4.25.3)\n",
      "Requirement already satisfied: proto-plus<2.0.0,>=1.22.3 in c:\\users\\hp\\anaconda3\\lib\\site-packages (from google-api-core!=2.0.*,!=2.1.*,!=2.2.*,!=2.3.0,<3.0.0,>=1.31.5->google-api-python-client) (1.26.1)\n",
      "Requirement already satisfied: requests<3.0.0,>=2.18.0 in c:\\users\\hp\\anaconda3\\lib\\site-packages (from google-api-core!=2.0.*,!=2.1.*,!=2.2.*,!=2.3.0,<3.0.0,>=1.31.5->google-api-python-client) (2.32.3)\n",
      "Requirement already satisfied: cachetools<6.0,>=2.0.0 in c:\\users\\hp\\anaconda3\\lib\\site-packages (from google-auth!=2.24.0,!=2.25.0,<3.0.0,>=1.32.0->google-api-python-client) (5.3.3)\n",
      "Requirement already satisfied: pyasn1-modules>=0.2.1 in c:\\users\\hp\\anaconda3\\lib\\site-packages (from google-auth!=2.24.0,!=2.25.0,<3.0.0,>=1.32.0->google-api-python-client) (0.2.8)\n",
      "Requirement already satisfied: rsa<5,>=3.1.4 in c:\\users\\hp\\anaconda3\\lib\\site-packages (from google-auth!=2.24.0,!=2.25.0,<3.0.0,>=1.32.0->google-api-python-client) (4.9.1)\n",
      "Requirement already satisfied: six>=1.5 in c:\\users\\hp\\anaconda3\\lib\\site-packages (from python-dateutil>=2.8.2->pandas) (1.16.0)\n",
      "Requirement already satisfied: oauthlib>=3.0.0 in c:\\users\\hp\\anaconda3\\lib\\site-packages (from requests-oauthlib>=0.7.0->google-auth-oauthlib) (3.2.2)\n",
      "Requirement already satisfied: colorama in c:\\users\\hp\\anaconda3\\lib\\site-packages (from click->nltk) (0.4.6)\n",
      "Requirement already satisfied: pyasn1<0.5.0,>=0.4.6 in c:\\users\\hp\\anaconda3\\lib\\site-packages (from pyasn1-modules>=0.2.1->google-auth!=2.24.0,!=2.25.0,<3.0.0,>=1.32.0->google-api-python-client) (0.4.8)\n",
      "Requirement already satisfied: charset-normalizer<4,>=2 in c:\\users\\hp\\anaconda3\\lib\\site-packages (from requests<3.0.0,>=2.18.0->google-api-core!=2.0.*,!=2.1.*,!=2.2.*,!=2.3.0,<3.0.0,>=1.31.5->google-api-python-client) (3.3.2)\n",
      "Requirement already satisfied: idna<4,>=2.5 in c:\\users\\hp\\anaconda3\\lib\\site-packages (from requests<3.0.0,>=2.18.0->google-api-core!=2.0.*,!=2.1.*,!=2.2.*,!=2.3.0,<3.0.0,>=1.31.5->google-api-python-client) (3.7)\n",
      "Requirement already satisfied: urllib3<3,>=1.21.1 in c:\\users\\hp\\anaconda3\\lib\\site-packages (from requests<3.0.0,>=2.18.0->google-api-core!=2.0.*,!=2.1.*,!=2.2.*,!=2.3.0,<3.0.0,>=1.31.5->google-api-python-client) (2.2.3)\n",
      "Requirement already satisfied: certifi>=2017.4.17 in c:\\users\\hp\\anaconda3\\lib\\site-packages (from requests<3.0.0,>=2.18.0->google-api-core!=2.0.*,!=2.1.*,!=2.2.*,!=2.3.0,<3.0.0,>=1.31.5->google-api-python-client) (2025.1.31)\n",
      "Note: you may need to restart the kernel to use updated packages.\n"
     ]
    }
   ],
   "source": [
    "%pip install pandas numpy scikit-learn joblib matplotlib seaborn nltk wordcloud google-api-python-client google-auth-httplib2 google-auth-oauthlib"
   ]
  },
  {
   "cell_type": "code",
   "execution_count": 53,
   "id": "e15c8ffb-e5a2-433d-9e6c-d2b1a0539a22",
   "metadata": {},
   "outputs": [],
   "source": [
    "from base64 import urlsafe_b64encode, urlsafe_b64decode"
   ]
  },
  {
   "cell_type": "code",
   "execution_count": 55,
   "id": "e9b02fc5-9726-47f2-9517-da749d0276da",
   "metadata": {},
   "outputs": [
    {
     "name": "stderr",
     "output_type": "stream",
     "text": [
      "[nltk_data] Downloading package stopwords to\n",
      "[nltk_data]     C:\\Users\\hp\\AppData\\Roaming\\nltk_data...\n",
      "[nltk_data]   Package stopwords is already up-to-date!\n"
     ]
    },
    {
     "data": {
      "text/plain": [
       "True"
      ]
     },
     "execution_count": 55,
     "metadata": {},
     "output_type": "execute_result"
    }
   ],
   "source": [
    "import os\n",
    "import pandas as pd\n",
    "import numpy as np\n",
    "import matplotlib.pyplot as plt\n",
    "import seaborn as sns\n",
    "import joblib\n",
    "import nltk\n",
    "from nltk.tokenize import RegexpTokenizer\n",
    "from nltk.stem.snowball import SnowballStemmer\n",
    "from sklearn.feature_extraction.text import CountVectorizer\n",
    "from sklearn.linear_model import LogisticRegression\n",
    "from sklearn.pipeline import make_pipeline\n",
    "from sklearn.model_selection import train_test_split\n",
    "from sklearn.metrics import accuracy_score, classification_report\n",
    "from urllib.parse import urlparse\n",
    "import re\n",
    "\n",
    "nltk.download('stopwords')"
   ]
  },
  {
   "cell_type": "code",
   "execution_count": 57,
   "id": "07d5965d-1753-426b-9a91-0344e660c423",
   "metadata": {},
   "outputs": [
    {
     "data": {
      "text/plain": [
       "['vectorizer.pkl']"
      ]
     },
     "execution_count": 57,
     "metadata": {},
     "output_type": "execute_result"
    }
   ],
   "source": [
    "# 2.1 Load and clean URL dataset\n",
    "df_urls = pd.read_csv('phishing_site_urls.csv', names=['URL','Label'], header=0)\n",
    "df_urls['Label'] = df_urls['Label'].str.lower()\n",
    "df_urls = df_urls[df_urls['Label'].isin(['good','bad'])]\n",
    "\n",
    "# quick balance\n",
    "y_min = df_urls['Label'].value_counts().min()\n",
    "from sklearn.utils import resample\n",
    "balanced = pd.concat([\n",
    "    resample(df_urls[df_urls.Label=='good'], n_samples=y_min, random_state=42),\n",
    "    resample(df_urls[df_urls.Label=='bad'],  n_samples=y_min, random_state=42)\n",
    "])\n",
    "\n",
    "# 2.2 Clean URLs for vectorization\n",
    "def clean_url(url):\n",
    "    p = urlparse(url)\n",
    "    domain = p.netloc.lower().replace('www.', '')\n",
    "    path = p.path.replace('/', ' ').lower()\n",
    "    return domain + ' ' + path\n",
    "\n",
    "balanced['clean_url'] = balanced['URL'].apply(clean_url)\n",
    "\n",
    "# 2.3 Vectorize and train\n",
    "tX = balanced['clean_url']\n",
    "ty = balanced['Label'].map({'good':0,'bad':1})\n",
    "\n",
    "vectorizer_url = CountVectorizer()\n",
    "X_vec = vectorizer_url.fit_transform(tX)\n",
    "X_tr, X_te, y_tr, y_te = train_test_split(X_vec, ty, stratify=ty, random_state=42)\n",
    "url_model = LogisticRegression(max_iter=2000)\n",
    "url_model.fit(X_tr, y_tr)\n",
    "\n",
    "# save URL model and vectorizer\n",
    "joblib.dump(url_model, 'phishing_model_lr.pkl')\n",
    "joblib.dump(vectorizer_url, 'vectorizer.pkl')"
   ]
  },
  {
   "cell_type": "code",
   "execution_count": 58,
   "id": "97784b91-aa70-40dd-98fb-4cab430a45a2",
   "metadata": {},
   "outputs": [
    {
     "name": "stdout",
     "output_type": "stream",
     "text": [
      "URL Model Accuracy: 0.9651455677590108\n",
      "              precision    recall  f1-score   support\n",
      "\n",
      "       legit       0.96      0.97      0.97     39106\n",
      "       phish       0.97      0.96      0.96     39105\n",
      "\n",
      "    accuracy                           0.97     78211\n",
      "   macro avg       0.97      0.97      0.97     78211\n",
      "weighted avg       0.97      0.97      0.97     78211\n",
      "\n"
     ]
    }
   ],
   "source": [
    "print(\"URL Model Accuracy:\", url_model.score(X_te, y_te))\n",
    "print(classification_report(y_te, url_model.predict(X_te), target_names=['legit','phish']))"
   ]
  },
  {
   "cell_type": "code",
   "execution_count": 59,
   "id": "f2aa47bc-414d-40a4-be2b-4ed76ac2c6d6",
   "metadata": {},
   "outputs": [
    {
     "data": {
      "text/plain": [
       "['email_model.pkl']"
      ]
     },
     "execution_count": 59,
     "metadata": {},
     "output_type": "execute_result"
    }
   ],
   "source": [
    "# 3.1 Load email dataset\n",
    "df_email = pd.read_csv('phishing_email.csv')  # expects columns 'text_combined','label'\n",
    "df_email = df_email.dropna(subset=['text_combined','label']).copy()\n",
    "df_email['label'] = df_email['label'].astype(int)\n",
    "\n",
    "# 3.2 Train email pipeline\n",
    "Xe = df_email['text_combined']\n",
    "ye = df_email['label']\n",
    "Xe_tr, Xe_te, ye_tr, ye_te = train_test_split(Xe, ye, stratify=ye, random_state=42)\n",
    "email_pipe = make_pipeline(\n",
    "    CountVectorizer(stop_words='english'),\n",
    "    LogisticRegression(max_iter=1000)\n",
    ")\n",
    "email_pipe.fit(Xe_tr, ye_tr)\n",
    "joblib.dump(email_pipe, 'email_model.pkl')"
   ]
  },
  {
   "cell_type": "code",
   "execution_count": 60,
   "id": "9cdedb62-4f99-4f3b-9fd1-7b8d4057ebf5",
   "metadata": {},
   "outputs": [
    {
     "name": "stdout",
     "output_type": "stream",
     "text": [
      "Email Model Accuracy: 0.9867617107942973\n",
      "              precision    recall  f1-score   support\n",
      "\n",
      "       legit       0.99      0.98      0.99      9899\n",
      "       phish       0.98      0.99      0.99     10723\n",
      "\n",
      "    accuracy                           0.99     20622\n",
      "   macro avg       0.99      0.99      0.99     20622\n",
      "weighted avg       0.99      0.99      0.99     20622\n",
      "\n"
     ]
    }
   ],
   "source": [
    "# 3.3 Evaluate email model\n",
    "print(\"Email Model Accuracy:\", email_pipe.score(Xe_te, ye_te))\n",
    "print(classification_report(ye_te, email_pipe.predict(Xe_te), target_names=['legit','phish']))"
   ]
  },
  {
   "cell_type": "code",
   "execution_count": 61,
   "id": "88e6a897-378a-4ce3-828a-4df647e20be7",
   "metadata": {},
   "outputs": [],
   "source": [
    "# 4.1 Load trained models\n",
    "email_model = joblib.load('email_model.pkl')\n",
    "url_model   = joblib.load('phishing_model_lr.pkl')\n",
    "url_vec     = joblib.load('vectorizer.pkl')\n",
    "\n",
    "# 4.2 Define detector\n",
    "url_pattern = re.compile(r'http[s]?://\\S+')\n",
    "\n",
    "def combined_detector(text: str,\n",
    "                      email_thresh: float = 0.7,\n",
    "                      url_thresh: float   = 0.7) -> str:\n",
    "    \"\"\"\n",
    "    Returns 'phishing' if:\n",
    "      - email_model’s phishing probability ≥ email_thresh, OR\n",
    "      - any URL’s phishing probability ≥ url_thresh\n",
    "    Otherwise returns 'legitimate'\n",
    "    \"\"\"\n",
    "    # 1) Email model confidence\n",
    "    em_prob = email_model.predict_proba([text])[0][1]\n",
    "\n",
    "    # 2) Check URL model confidence for all URLs\n",
    "    max_url_prob = 0.0\n",
    "    for u in url_pattern.findall(text):\n",
    "        cu = clean_url(u)\n",
    "        url_prob = url_model.predict_proba(url_vec.transform([cu]))[0][1]\n",
    "        max_url_prob = max(max_url_prob, url_prob)\n",
    "\n",
    "    if em_prob >= email_thresh or max_url_prob >= url_thresh:\n",
    "        return 'phishing'\n",
    "    return 'legitimate'"
   ]
  },
  {
   "cell_type": "code",
   "execution_count": 62,
   "id": "8981fc6c-69c6-444a-a487-c96362c30ba6",
   "metadata": {},
   "outputs": [
    {
     "name": "stdout",
     "output_type": "stream",
     "text": [
      "Test prediction: phishing\n"
     ]
    }
   ],
   "source": [
    "test_email = \"Subject: Test\\nHello, visit http://secure-login.biz/verify\"\n",
    "print(\"Test prediction:\", combined_detector(test_email))"
   ]
  },
  {
   "cell_type": "code",
   "execution_count": 63,
   "id": "0636a495-b1d7-4c66-ae55-80562dee9caa",
   "metadata": {},
   "outputs": [
    {
     "name": "stdout",
     "output_type": "stream",
     "text": [
      "Combined Accuracy: 0.9965933612976747\n",
      "              precision    recall  f1-score   support\n",
      "\n",
      "       legit       1.00      1.00      1.00     39595\n",
      "       phish       1.00      1.00      1.00     42891\n",
      "\n",
      "    accuracy                           1.00     82486\n",
      "   macro avg       1.00      1.00      1.00     82486\n",
      "weighted avg       1.00      1.00      1.00     82486\n",
      "\n"
     ]
    }
   ],
   "source": [
    "y_true = df_email['label']\n",
    "y_pred = df_email['text_combined'].apply(lambda t: 1 if combined_detector(t)=='phishing' else 0)\n",
    "print(\"Combined Accuracy:\", accuracy_score(y_true, y_pred))\n",
    "print(classification_report(y_true, y_pred, target_names=['legit','phish']))"
   ]
  },
  {
   "cell_type": "code",
   "execution_count": 29,
   "id": "4f80f490-dd74-49f2-ae55-80447940b7fc",
   "metadata": {},
   "outputs": [
    {
     "name": "stdout",
     "output_type": "stream",
     "text": [
      "Requirement already satisfied: google-auth-oauthlib in c:\\users\\hp\\anaconda3\\lib\\site-packages (1.2.2)\n",
      "Requirement already satisfied: google-api-python-client in c:\\users\\hp\\anaconda3\\lib\\site-packages (2.167.0)\n",
      "Requirement already satisfied: google-auth>=2.15.0 in c:\\users\\hp\\anaconda3\\lib\\site-packages (from google-auth-oauthlib) (2.39.0)\n",
      "Requirement already satisfied: requests-oauthlib>=0.7.0 in c:\\users\\hp\\anaconda3\\lib\\site-packages (from google-auth-oauthlib) (2.0.0)\n",
      "Requirement already satisfied: httplib2<1.0.0,>=0.19.0 in c:\\users\\hp\\anaconda3\\lib\\site-packages (from google-api-python-client) (0.22.0)\n",
      "Requirement already satisfied: google-auth-httplib2<1.0.0,>=0.2.0 in c:\\users\\hp\\anaconda3\\lib\\site-packages (from google-api-python-client) (0.2.0)\n",
      "Requirement already satisfied: google-api-core!=2.0.*,!=2.1.*,!=2.2.*,!=2.3.0,<3.0.0,>=1.31.5 in c:\\users\\hp\\anaconda3\\lib\\site-packages (from google-api-python-client) (2.24.2)\n",
      "Requirement already satisfied: uritemplate<5,>=3.0.1 in c:\\users\\hp\\anaconda3\\lib\\site-packages (from google-api-python-client) (4.1.1)\n",
      "Requirement already satisfied: googleapis-common-protos<2.0.0,>=1.56.2 in c:\\users\\hp\\anaconda3\\lib\\site-packages (from google-api-core!=2.0.*,!=2.1.*,!=2.2.*,!=2.3.0,<3.0.0,>=1.31.5->google-api-python-client) (1.70.0)\n",
      "Requirement already satisfied: protobuf!=3.20.0,!=3.20.1,!=4.21.0,!=4.21.1,!=4.21.2,!=4.21.3,!=4.21.4,!=4.21.5,<7.0.0,>=3.19.5 in c:\\users\\hp\\anaconda3\\lib\\site-packages (from google-api-core!=2.0.*,!=2.1.*,!=2.2.*,!=2.3.0,<3.0.0,>=1.31.5->google-api-python-client) (4.25.3)\n",
      "Requirement already satisfied: proto-plus<2.0.0,>=1.22.3 in c:\\users\\hp\\anaconda3\\lib\\site-packages (from google-api-core!=2.0.*,!=2.1.*,!=2.2.*,!=2.3.0,<3.0.0,>=1.31.5->google-api-python-client) (1.26.1)\n",
      "Requirement already satisfied: requests<3.0.0,>=2.18.0 in c:\\users\\hp\\anaconda3\\lib\\site-packages (from google-api-core!=2.0.*,!=2.1.*,!=2.2.*,!=2.3.0,<3.0.0,>=1.31.5->google-api-python-client) (2.32.3)\n",
      "Requirement already satisfied: cachetools<6.0,>=2.0.0 in c:\\users\\hp\\anaconda3\\lib\\site-packages (from google-auth>=2.15.0->google-auth-oauthlib) (5.3.3)\n",
      "Requirement already satisfied: pyasn1-modules>=0.2.1 in c:\\users\\hp\\anaconda3\\lib\\site-packages (from google-auth>=2.15.0->google-auth-oauthlib) (0.2.8)\n",
      "Requirement already satisfied: rsa<5,>=3.1.4 in c:\\users\\hp\\anaconda3\\lib\\site-packages (from google-auth>=2.15.0->google-auth-oauthlib) (4.9.1)\n",
      "Requirement already satisfied: pyparsing!=3.0.0,!=3.0.1,!=3.0.2,!=3.0.3,<4,>=2.4.2 in c:\\users\\hp\\anaconda3\\lib\\site-packages (from httplib2<1.0.0,>=0.19.0->google-api-python-client) (3.1.2)\n",
      "Requirement already satisfied: oauthlib>=3.0.0 in c:\\users\\hp\\anaconda3\\lib\\site-packages (from requests-oauthlib>=0.7.0->google-auth-oauthlib) (3.2.2)\n",
      "Requirement already satisfied: pyasn1<0.5.0,>=0.4.6 in c:\\users\\hp\\anaconda3\\lib\\site-packages (from pyasn1-modules>=0.2.1->google-auth>=2.15.0->google-auth-oauthlib) (0.4.8)\n",
      "Requirement already satisfied: charset-normalizer<4,>=2 in c:\\users\\hp\\anaconda3\\lib\\site-packages (from requests<3.0.0,>=2.18.0->google-api-core!=2.0.*,!=2.1.*,!=2.2.*,!=2.3.0,<3.0.0,>=1.31.5->google-api-python-client) (3.3.2)\n",
      "Requirement already satisfied: idna<4,>=2.5 in c:\\users\\hp\\anaconda3\\lib\\site-packages (from requests<3.0.0,>=2.18.0->google-api-core!=2.0.*,!=2.1.*,!=2.2.*,!=2.3.0,<3.0.0,>=1.31.5->google-api-python-client) (3.7)\n",
      "Requirement already satisfied: urllib3<3,>=1.21.1 in c:\\users\\hp\\anaconda3\\lib\\site-packages (from requests<3.0.0,>=2.18.0->google-api-core!=2.0.*,!=2.1.*,!=2.2.*,!=2.3.0,<3.0.0,>=1.31.5->google-api-python-client) (2.2.3)\n",
      "Requirement already satisfied: certifi>=2017.4.17 in c:\\users\\hp\\anaconda3\\lib\\site-packages (from requests<3.0.0,>=2.18.0->google-api-core!=2.0.*,!=2.1.*,!=2.2.*,!=2.3.0,<3.0.0,>=1.31.5->google-api-python-client) (2025.1.31)\n",
      "Note: you may need to restart the kernel to use updated packages.\n"
     ]
    }
   ],
   "source": [
    "%pip install --upgrade google-auth-oauthlib google-api-python-client"
   ]
  },
  {
   "cell_type": "code",
   "execution_count": 30,
   "id": "8d56773f-9247-475e-886f-fcc0c6c60317",
   "metadata": {},
   "outputs": [],
   "source": [
    "from google_auth_oauthlib.flow import InstalledAppFlow\n",
    "from googleapiclient.discovery import build\n",
    "import base64\n",
    "from email import message_from_bytes\n",
    "\n",
    "SCOPES = ['https://www.googleapis.com/auth/gmail.readonly']\n",
    "\n",
    "def authenticate_gmail():\n",
    "    creds = None\n",
    "    if os.path.exists('token.json'):\n",
    "        from google.oauth2.credentials import Credentials\n",
    "        creds = Credentials.from_authorized_user_file('token.json', SCOPES)\n",
    "    if not creds or not creds.valid:\n",
    "        flow = InstalledAppFlow.from_client_secrets_file('credentials.json', SCOPES)\n",
    "        creds = flow.run_local_server(port=8080)\n",
    "        with open('token.json','w') as f:\n",
    "            f.write(creds.to_json())\n",
    "    return build('gmail','v1',credentials=creds)"
   ]
  },
  {
   "cell_type": "code",
   "execution_count": 31,
   "id": "8428a235-8661-427d-9225-e699f55f0bfd",
   "metadata": {},
   "outputs": [
    {
     "name": "stdout",
     "output_type": "stream",
     "text": [
      "🔗 URL: https://www.shiksha.com/college/symbiosis-medical-college-for-women-symbiosis-international-pune-lavale-146023/course-bachelor-of-medicine-and-bachelor-of-surgery-mbbs-528225\n",
      "🧹 Cleaned: shiksha.com  college symbiosis-medical-college-for-women-symbiosis-international-pune-lavale-146023 course-bachelor-of-medicine-and-bachelor-of-surgery-mbbs-528225\n",
      "🔍 Confidence (phishing): 0.00\n",
      "✅ RESULT: LEGITIMATE\n"
     ]
    }
   ],
   "source": [
    "from urllib.parse import urlparse\n",
    "\n",
    "# Your trained model and vectorizer must be loaded:\n",
    "# url_model = joblib.load(\"phishing_model_lr.pkl\")\n",
    "# url_vec = joblib.load(\"vectorizer.pkl\")\n",
    "\n",
    "# 🔹 Step 1: Define the URL and cleaning function\n",
    "url = \"https://www.shiksha.com/college/symbiosis-medical-college-for-women-symbiosis-international-pune-lavale-146023/course-bachelor-of-medicine-and-bachelor-of-surgery-mbbs-528225\"\n",
    "\n",
    "def clean_url(url):\n",
    "    parsed = urlparse(url)\n",
    "    domain = parsed.netloc.lower().replace(\"www.\", \"\")\n",
    "    path = parsed.path.replace(\"/\", \" \").lower()\n",
    "    return f\"{domain} {path}\"\n",
    "\n",
    "# 🔹 Step 2: Clean, vectorize, predict\n",
    "cleaned = clean_url(url)\n",
    "vectorized = url_vec.transform([cleaned])\n",
    "prediction = url_model.predict(vectorized)[0]\n",
    "confidence = url_model.predict_proba(vectorized)[0][1]\n",
    "\n",
    "# 🔹 Step 3: Show result\n",
    "print(f\"🔗 URL: {url}\")\n",
    "print(f\"🧹 Cleaned: {cleaned}\")\n",
    "print(f\"🔍 Confidence (phishing): {confidence:.2f}\")\n",
    "print(\"🚫 RESULT: PHISHING\" if prediction == 'bad' or confidence > 0.95 else \"✅ RESULT: LEGITIMATE\")\n"
   ]
  },
  {
   "cell_type": "code",
   "execution_count": 32,
   "id": "39b79d69-3911-40fa-b470-cf2a0cdd21bf",
   "metadata": {},
   "outputs": [
    {
     "name": "stdout",
     "output_type": "stream",
     "text": [
      "Please visit this URL to authorize this application: https://accounts.google.com/o/oauth2/auth?response_type=code&client_id=836217650067-20p6cg52pnbaccm9q9bgmphtkc4l08mj.apps.googleusercontent.com&redirect_uri=http%3A%2F%2Flocalhost%3A8080%2F&scope=https%3A%2F%2Fwww.googleapis.com%2Fauth%2Fgmail.readonly&state=Uw3t19yAjzB3SZsYcXOZ0REBCS1YXj&access_type=offline\n",
      "Gmail service: <googleapiclient.discovery.Resource object at 0x000001E88EE62DB0>\n"
     ]
    }
   ],
   "source": [
    "service = authenticate_gmail()\n",
    "print(\"Gmail service:\", service)"
   ]
  },
  {
   "cell_type": "code",
   "execution_count": 85,
   "id": "0b77b76a-5d43-4622-b10e-7fc5df5aafcc",
   "metadata": {},
   "outputs": [],
   "source": [
    "def is_auto_generated_email(text):\n",
    "    text = text.lower()\n",
    "    keywords = [\n",
    "        \"do not reply\", \"automated message\", \"this is an auto-generated email\",\n",
    "        \"dear customer\", \"thank you for using\", \"your transaction id is\",\n",
    "        \"upi debit alert\", \"download now\", \"payment received\",\n",
    "        \"anaconda distribution\", \"login from new device\"\n",
    "    ]\n",
    "    matches = [kw for kw in keywords if kw in text]\n",
    "    return len(matches) >= 2  # You can adjust this threshold"
   ]
  },
  {
   "cell_type": "code",
   "execution_count": 95,
   "id": "1155e462-155f-44dd-95f2-b40e0d39bfc5",
   "metadata": {},
   "outputs": [],
   "source": [
    "messages = service.users().messages().list(userId='me', maxResults=1).execute().get('messages', [])"
   ]
  },
  {
   "cell_type": "code",
   "execution_count": 97,
   "id": "807feaeb-cd7e-4de3-a522-04e3ea1f3219",
   "metadata": {},
   "outputs": [
    {
     "name": "stdout",
     "output_type": "stream",
     "text": [
      "📧 EMAIL PREVIEW:\n",
      " UPI Debit Alert\n",
      "Dear Customer,\n",
      "\n",
      "An amount of INR 164.00 has been debited to your A/C. No. XX0061 on 23-APR-25- on account of UPI:511328882759/To:q245978712@ybl\n",
      "\n",
      "Available Balance on 23-APR-2025 18:06:15 is INR 4,403.67 and Total available balance (including linked deposits and Limit) is INR 4,40\n",
      "🧠 Email Phishing Possibility: 99.94% (Threshold: 90%) ✅\n",
      "🔍 Heuristic override: Detected safe auto-generated email ✅\n",
      "🌐 URL: https://delivery.yesbank.in/lt.pl?id=15556=dkgGUwdQDFYHTwUIAlNSXwdWB1QEVQIFUA5WVlcAAwUNUlUCBwENVgYHVFsFAFRTUFYeAl0QQFRYUF4QSwVVWgQBAiNRCFgKXR0HVlwaAVEBVlFQClYBBA8HBFILVgBPXUBCE0VfFkxVVghQRwNCHxsaBxZQBFxeGF5ZS14QHENZC18HShMK&fl=XUBCEwxKFhRGREpAVBVSB1sITAxc → Phishing Possibility: 99.72% (Threshold: 95%) 🚩\n",
      "🔍 FINAL RESULT: PHISHING 🚫\n",
      "——————————————————————————————————————————————————\n"
     ]
    }
   ],
   "source": [
    "for m in messages:\n",
    "    try:\n",
    "        msg_raw = service.users().messages().get(userId='me', id=m['id'], format='raw').execute()['raw']\n",
    "        data = urlsafe_b64decode(msg_raw.encode())\n",
    "        email_message = message_from_bytes(data)\n",
    "\n",
    "        subject = email_message['Subject'] or ''\n",
    "        body = ''\n",
    "\n",
    "        if email_message.is_multipart():\n",
    "            for part in email_message.walk():\n",
    "                if part.get_content_type() == 'text/plain':\n",
    "                    body = part.get_payload(decode=True).decode(errors='ignore')\n",
    "                    break\n",
    "        else:\n",
    "            body = email_message.get_payload(decode=True).decode(errors='ignore')\n",
    "\n",
    "        full_text = subject + '\\n' + body\n",
    "\n",
    "        # Email model prediction\n",
    "        email_prob = email_model.predict_proba([full_text])[0][1]\n",
    "        email_percent = round(email_prob * 100, 2)\n",
    "\n",
    "        # Heuristic logic\n",
    "        heuristic_safe = is_auto_generated_email(full_text)\n",
    "        email_flagged = (email_prob > 0.90) and not heuristic_safe\n",
    "\n",
    "        # Extract URLs from text\n",
    "        urls = re.findall(r'(https?://[^\\s]+)', full_text)\n",
    "        url_probs = []\n",
    "        for url in urls:\n",
    "            cleaned = clean_url(url)\n",
    "            vec = url_vec.transform([cleaned])\n",
    "            prob = url_model.predict_proba(vec)[0][1]\n",
    "            url_probs.append((url, round(prob * 100, 2)))\n",
    "\n",
    "        max_url_prob = max([p for u, p in url_probs], default=0)\n",
    "        url_flagged = max_url_prob > 98.0\n",
    "\n",
    "        is_phishing = email_flagged or url_flagged\n",
    "\n",
    "        # Output section\n",
    "        print(\"📧 EMAIL PREVIEW:\\n\", full_text[:300])\n",
    "        print(f\"🧠 Email Phishing Possibility: {email_percent}% (Threshold: 90%) {'🚩' if email_flagged else '✅'}\")\n",
    "        if heuristic_safe:\n",
    "            print(\"🔍 Heuristic override: Detected safe auto-generated email ✅\")\n",
    "        if urls:\n",
    "            for u, p in url_probs:\n",
    "                print(f\"🌐 URL: {u} → Phishing Possibility: {p}% (Threshold: 95%) {'🚩' if p > 95 else '✅'}\")\n",
    "        else:\n",
    "            print(\"🌐 No URLs found.\")\n",
    "\n",
    "        print(\"🔍 FINAL RESULT:\", \"PHISHING 🚫\" if is_phishing else \"LEGITIMATE ✅\")\n",
    "        print(\"—\" * 50)\n",
    "\n",
    "    except Exception as e:\n",
    "        print(\"⚠️ Skipped message due to error:\", e)"
   ]
  },
  {
   "cell_type": "code",
   "execution_count": null,
   "id": "881539f0-bc63-4e58-ba7b-135c6f191eaa",
   "metadata": {},
   "outputs": [],
   "source": []
  }
 ],
 "metadata": {
  "kernelspec": {
   "display_name": "Python [conda env:base] *",
   "language": "python",
   "name": "conda-base-py"
  },
  "language_info": {
   "codemirror_mode": {
    "name": "ipython",
    "version": 3
   },
   "file_extension": ".py",
   "mimetype": "text/x-python",
   "name": "python",
   "nbconvert_exporter": "python",
   "pygments_lexer": "ipython3",
   "version": "3.12.7"
  }
 },
 "nbformat": 4,
 "nbformat_minor": 5
}
